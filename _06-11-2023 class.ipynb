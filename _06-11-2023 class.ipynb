{
 "cells": [
  {
   "cell_type": "markdown",
   "id": "c9835de5",
   "metadata": {},
   "source": [
    "# for - else and while - else"
   ]
  },
  {
   "cell_type": "markdown",
   "id": "4fd2d3ae",
   "metadata": {},
   "source": [
    "## for-else"
   ]
  },
  {
   "cell_type": "code",
   "execution_count": 3,
   "id": "d28b1336",
   "metadata": {},
   "outputs": [
    {
     "name": "stdout",
     "output_type": "stream",
     "text": [
      "0\n",
      "1\n",
      "2\n",
      "3\n",
      "4\n",
      "5\n",
      "6\n"
     ]
    }
   ],
   "source": [
    "for ele in range(10):\n",
    "    if ele ==7:                                # IF condition\n",
    "        break\n",
    "    print(ele)\n",
    "else:\n",
    "    print('elecution completed')"
   ]
  },
  {
   "cell_type": "markdown",
   "id": "d985027f",
   "metadata": {},
   "source": [
    "## while - else"
   ]
  },
  {
   "cell_type": "markdown",
   "id": "6d7bfc93",
   "metadata": {},
   "source": [
    "#### while else statement is a combination of a while loop with an else block. The while loop executes a block of code as long as its given condition remains true. Once the condition becomes false, the loop stops, and the else block is executed."
   ]
  },
  {
   "cell_type": "code",
   "execution_count": 1,
   "id": "342555cb",
   "metadata": {},
   "outputs": [
    {
     "name": "stdout",
     "output_type": "stream",
     "text": [
      "0\n",
      "1\n",
      "2\n",
      "3\n",
      "4\n",
      "5\n",
      "6\n",
      "7\n",
      "8\n",
      "9\n",
      "zz\n"
     ]
    }
   ],
   "source": [
    "n=0\n",
    "while n in range(10):\n",
    "    print(n)\n",
    "    n+=1\n",
    "else:\n",
    "    print('zz')"
   ]
  },
  {
   "cell_type": "code",
   "execution_count": 10,
   "id": "f6041124",
   "metadata": {},
   "outputs": [
    {
     "name": "stdout",
     "output_type": "stream",
     "text": [
      "enter num a: 1\n",
      "enter num b: 25\n",
      "1, 2, 3, 5, 7, 11, 13, 17, 19, 23, "
     ]
    }
   ],
   "source": [
    "a, b = int(input('enter num a: ')), int(input('enter num b: '))\n",
    "s, e = min(a,b), max(a,b)\n",
    "e=e+1\n",
    "\n",
    "for num in range(s, e):\n",
    "    for div in range(2, int(num/2)+1):\n",
    "        if num%div == 0:\n",
    "            break\n",
    "            \n",
    "    else:\n",
    "        print(num, end = ', ')"
   ]
  },
  {
   "cell_type": "code",
   "execution_count": 11,
   "id": "b489ac4e",
   "metadata": {},
   "outputs": [
    {
     "name": "stdout",
     "output_type": "stream",
     "text": [
      "54\n",
      "64\n"
     ]
    }
   ],
   "source": [
    "x, y = 54, 64\n",
    "print(x)\n",
    "print(y)"
   ]
  },
  {
   "cell_type": "code",
   "execution_count": 13,
   "id": "3874faf7",
   "metadata": {},
   "outputs": [
    {
     "data": {
      "text/plain": [
       "54"
      ]
     },
     "execution_count": 13,
     "metadata": {},
     "output_type": "execute_result"
    }
   ],
   "source": [
    "max(54, 17)"
   ]
  },
  {
   "cell_type": "code",
   "execution_count": 16,
   "id": "5da7ddd7",
   "metadata": {},
   "outputs": [
    {
     "name": "stdout",
     "output_type": "stream",
     "text": [
      "enter a number: 6\n",
      "value not found\n"
     ]
    }
   ],
   "source": [
    "x = [1,2,3, 'a', 4,5]\n",
    "y = float(input('enter a number: '))\n",
    "\n",
    "for ele in x:\n",
    "    if ele == y:\n",
    "        print('value entered is in there in the container')\n",
    "        break\n",
    "else:\n",
    "    print('value not found')\n",
    "        "
   ]
  },
  {
   "cell_type": "code",
   "execution_count": 19,
   "id": "d71965a2",
   "metadata": {},
   "outputs": [
    {
     "name": "stdout",
     "output_type": "stream",
     "text": [
      "0 s\n",
      "1 t\n",
      "2 r\n",
      "3 i\n",
      "4 n\n",
      "5 g\n"
     ]
    }
   ],
   "source": [
    "# enumerate\n",
    "x = 'string'\n",
    "\n",
    "for ind, val in enumerate(x):\n",
    "    print(ind, val)"
   ]
  },
  {
   "cell_type": "code",
   "execution_count": 21,
   "id": "75f7ec4e",
   "metadata": {},
   "outputs": [
    {
     "name": "stdout",
     "output_type": "stream",
     "text": [
      "0 b\n",
      "1 u\n",
      "2 n\n",
      "3 n\n",
      "4 y\n"
     ]
    }
   ],
   "source": [
    "x = 'bunny'\n",
    "\n",
    "for ind, val in enumerate(x):\n",
    "    print (ind, val)"
   ]
  },
  {
   "cell_type": "code",
   "execution_count": 25,
   "id": "63d66b4b",
   "metadata": {},
   "outputs": [
    {
     "name": "stdout",
     "output_type": "stream",
     "text": [
      "0 v\n",
      "1 a\n",
      "2 r\n",
      "3 u\n",
      "4 n\n"
     ]
    }
   ],
   "source": [
    "x = 'varun'\n",
    "\n",
    "for ind, val in enumerate(x):\n",
    "    print(ind, val)"
   ]
  },
  {
   "cell_type": "code",
   "execution_count": 28,
   "id": "a3c63626",
   "metadata": {},
   "outputs": [
    {
     "name": "stdout",
     "output_type": "stream",
     "text": [
      "enter a number: 7\n",
      "value not found\n"
     ]
    }
   ],
   "source": [
    "x = [1,2,3,0,4,5]\n",
    "y = float(input('enter a number: '))\n",
    "\n",
    "for i, ele in enumerate (x):\n",
    "    if ele == y:\n",
    "        print(f'value (y) entered is there in the containerat index(i)')\n",
    "        break\n",
    "else:\n",
    "    print('value not found')"
   ]
  },
  {
   "cell_type": "markdown",
   "id": "eafdf242",
   "metadata": {},
   "source": [
    "# list compherenctiol"
   ]
  },
  {
   "cell_type": "markdown",
   "id": "40e64b3f",
   "metadata": {},
   "source": [
    "#### in this method, we create a new list by manipulating the values of an existing list\n",
    "\n",
    "\n",
    "#### syntax: list=[expression for i in list if condition]"
   ]
  },
  {
   "cell_type": "code",
   "execution_count": 31,
   "id": "a8f529db",
   "metadata": {},
   "outputs": [
    {
     "data": {
      "text/plain": [
       "[0, 1, 2, 3, 4, 5, 6, 7, 8, 9, 10]"
      ]
     },
     "execution_count": 31,
     "metadata": {},
     "output_type": "execute_result"
    }
   ],
   "source": [
    "a = []\n",
    "for i in range(0,11):\n",
    "    a.append(i)\n",
    "a    "
   ]
  },
  {
   "cell_type": "code",
   "execution_count": 32,
   "id": "923f7fff",
   "metadata": {},
   "outputs": [
    {
     "data": {
      "text/plain": [
       "[0, 1, 2, 3, 4, 5, 6, 7, 8, 9, 10]"
      ]
     },
     "execution_count": 32,
     "metadata": {},
     "output_type": "execute_result"
    }
   ],
   "source": [
    "x = [ele for ele in range(0, 11)]\n",
    "x"
   ]
  },
  {
   "cell_type": "code",
   "execution_count": 34,
   "id": "61c18619",
   "metadata": {},
   "outputs": [
    {
     "data": {
      "text/plain": [
       "[0, 2, 4, 6, 8, 10, 12, 14, 16, 18, 20]"
      ]
     },
     "execution_count": 34,
     "metadata": {},
     "output_type": "execute_result"
    }
   ],
   "source": [
    "x = [2*ele for ele in range(0, 11)]\n",
    "x"
   ]
  },
  {
   "cell_type": "code",
   "execution_count": 36,
   "id": "fffae9d4",
   "metadata": {},
   "outputs": [
    {
     "data": {
      "text/plain": [
       "[0, 2, 4, 6, 8, 10]"
      ]
     },
     "execution_count": 36,
     "metadata": {},
     "output_type": "execute_result"
    }
   ],
   "source": [
    "x = [ele for ele in range(0, 11) if ele%2 == 0]     # only even number\n",
    "x"
   ]
  },
  {
   "cell_type": "code",
   "execution_count": 37,
   "id": "0d7746fd",
   "metadata": {},
   "outputs": [],
   "source": [
    "# syntax = [var for var in iterator if c.e(using the var)]"
   ]
  },
  {
   "cell_type": "code",
   "execution_count": 42,
   "id": "81926e0e",
   "metadata": {},
   "outputs": [
    {
     "name": "stdout",
     "output_type": "stream",
     "text": [
      "enter a string with upper and lower alphabets: VARun\n"
     ]
    },
    {
     "data": {
      "text/plain": [
       "['V', 'A', 'R']"
      ]
     },
     "execution_count": 42,
     "metadata": {},
     "output_type": "execute_result"
    }
   ],
   "source": [
    "x = input('enter a string with upper and lower alphabets: ')\n",
    "\n",
    "y = [var for var in x if var.isupper()]\n",
    "y\n"
   ]
  },
  {
   "cell_type": "code",
   "execution_count": 44,
   "id": "b98531c5",
   "metadata": {},
   "outputs": [
    {
     "name": "stdout",
     "output_type": "stream",
     "text": [
      "enter an word: VARUNbunny\n"
     ]
    },
    {
     "data": {
      "text/plain": [
       "['b', 'u', 'n', 'n', 'y']"
      ]
     },
     "execution_count": 44,
     "metadata": {},
     "output_type": "execute_result"
    }
   ],
   "source": [
    "x = input('enter an word: ')\n",
    "\n",
    "y = [var for var in x if var.islower()]\n",
    "y"
   ]
  },
  {
   "cell_type": "markdown",
   "id": "d13a8da9",
   "metadata": {},
   "source": [
    "# zipmethod"
   ]
  },
  {
   "cell_type": "code",
   "execution_count": 46,
   "id": "84b85bbf",
   "metadata": {},
   "outputs": [
    {
     "data": {
      "text/plain": [
       "[(1, 11), (2, 22), (3, 33)]"
      ]
     },
     "execution_count": 46,
     "metadata": {},
     "output_type": "execute_result"
    }
   ],
   "source": [
    "list(zip([1, 2, 3, 4], [11, 22, 33]))"
   ]
  },
  {
   "cell_type": "code",
   "execution_count": 48,
   "id": "7eed55fa",
   "metadata": {},
   "outputs": [
    {
     "name": "stdout",
     "output_type": "stream",
     "text": [
      "(1, 11)\n",
      "(2, 22)\n",
      "(3, 33)\n"
     ]
    }
   ],
   "source": [
    "for ele in zip([1, 2, 3, 4], [11, 22, 33]):\n",
    "    print(ele)"
   ]
  },
  {
   "cell_type": "code",
   "execution_count": 55,
   "id": "b43ca607",
   "metadata": {},
   "outputs": [
    {
     "data": {
      "text/plain": [
       "{1: 'a', 11: 'b', 22: 'c'}"
      ]
     },
     "execution_count": 55,
     "metadata": {},
     "output_type": "execute_result"
    }
   ],
   "source": [
    "{key : value for key, value in zip([1, 11, 22],['a', 'b', 'c'])}"
   ]
  },
  {
   "cell_type": "code",
   "execution_count": 56,
   "id": "d5ac2b09",
   "metadata": {},
   "outputs": [
    {
     "ename": "SyntaxError",
     "evalue": "invalid syntax (2207755716.py, line 2)",
     "output_type": "error",
     "traceback": [
      "\u001b[1;36m  Cell \u001b[1;32mIn[56], line 2\u001b[1;36m\u001b[0m\n\u001b[1;33m    (o:'s', 1:'t') #this is a question\u001b[0m\n\u001b[1;37m      ^\u001b[0m\n\u001b[1;31mSyntaxError\u001b[0m\u001b[1;31m:\u001b[0m invalid syntax\n"
     ]
    }
   ],
   "source": [
    "'string'\n",
    "(o:'s', 1:'t') #this is a question"
   ]
  },
  {
   "cell_type": "code",
   "execution_count": null,
   "id": "55c2ec75",
   "metadata": {},
   "outputs": [],
   "source": [
    "x = input('enter a string')"
   ]
  },
  {
   "cell_type": "markdown",
   "id": "817cb099",
   "metadata": {},
   "source": [
    "# enumerate\n",
    "\n",
    "#### The enumerate() function takes a collection (e.g. a tuple) and returns it as an enumerate object.\n",
    "\n",
    "\n",
    "#### The enumerate() function adds a counter as the key of the enumerate object.\n",
    "\n",
    "\n",
    "\n",
    "### syntax:enumerate(iterable, start)\n",
    "\n",
    "#### iterable -->An iterable object\n",
    "\n",
    "#### start--->A Number. Defining the start number of the enumerate object. Default 0"
   ]
  },
  {
   "cell_type": "code",
   "execution_count": 2,
   "id": "362bb8bb",
   "metadata": {},
   "outputs": [
    {
     "name": "stdout",
     "output_type": "stream",
     "text": [
      "0 v\n",
      "1 i\n",
      "2 c\n",
      "3 k\n",
      "4 e\n",
      "5 y\n",
      "6  \n",
      "7 b\n",
      "8 u\n",
      "9 n\n",
      "10 n\n",
      "11 y\n",
      "12  \n",
      "13 v\n",
      "14 i\n",
      "15 k\n",
      "16 r\n",
      "17 a\n",
      "18 m\n"
     ]
    }
   ],
   "source": [
    "x='vickey bunny vikram'\n",
    "\n",
    "for ind,val in enumerate(x):\n",
    "    print(ind,val)"
   ]
  }
 ],
 "metadata": {
  "kernelspec": {
   "display_name": "Python 3 (ipykernel)",
   "language": "python",
   "name": "python3"
  },
  "language_info": {
   "codemirror_mode": {
    "name": "ipython",
    "version": 3
   },
   "file_extension": ".py",
   "mimetype": "text/x-python",
   "name": "python",
   "nbconvert_exporter": "python",
   "pygments_lexer": "ipython3",
   "version": "3.11.5"
  }
 },
 "nbformat": 4,
 "nbformat_minor": 5
}
